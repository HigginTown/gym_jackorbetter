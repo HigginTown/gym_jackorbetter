{
 "cells": [
  {
   "cell_type": "code",
   "execution_count": 1,
   "metadata": {},
   "outputs": [],
   "source": [
    "# make the environment\n",
    "import gym\n",
    "import gym_jackorbetter\n",
    "env = gym.make(\"JackOrBetterEnv-v0\")"
   ]
  },
  {
   "cell_type": "code",
   "execution_count": 46,
   "metadata": {},
   "outputs": [
    {
     "name": "stdout",
     "output_type": "stream",
     "text": [
      "([73730, 8398611, 134236965, 139523, 2131213], -1, True, {})\n",
      "([1065995, 67119647, 33564957, 279045, 8423187], -1, True, {})\n",
      "([1082379, 67119647, 134253349, 268442665, 268446761], 1, True, {})\n"
     ]
    }
   ],
   "source": [
    "# take some steps\n",
    "\n",
    "print(env.step([1,3]))\n",
    "print(env.step([0, 2, 4]))\n",
    "print(env.step([999]))"
   ]
  },
  {
   "cell_type": "code",
   "execution_count": null,
   "metadata": {},
   "outputs": [],
   "source": []
  }
 ],
 "metadata": {
  "kernelspec": {
   "display_name": "Python 3",
   "language": "python",
   "name": "python3"
  },
  "language_info": {
   "codemirror_mode": {
    "name": "ipython",
    "version": 3
   },
   "file_extension": ".py",
   "mimetype": "text/x-python",
   "name": "python",
   "nbconvert_exporter": "python",
   "pygments_lexer": "ipython3",
   "version": "3.6.5"
  }
 },
 "nbformat": 4,
 "nbformat_minor": 2
}
